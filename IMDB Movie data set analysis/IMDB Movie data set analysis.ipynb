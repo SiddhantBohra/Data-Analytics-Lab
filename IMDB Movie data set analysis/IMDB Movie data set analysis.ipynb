{
 "cells": [
  {
   "cell_type": "code",
   "execution_count": 18,
   "metadata": {},
   "outputs": [
    {
     "ename": "FileExistsError",
     "evalue": "[WinError 183] Cannot create a file when that file already exists: 'Animation'",
     "output_type": "error",
     "traceback": [
      "\u001b[1;31m---------------------------------------------------------------------------\u001b[0m",
      "\u001b[1;31mFileExistsError\u001b[0m                           Traceback (most recent call last)",
      "\u001b[1;32m<ipython-input-18-0b4e1f0ae5df>\u001b[0m in \u001b[0;36m<module>\u001b[1;34m()\u001b[0m\n\u001b[0;32m     12\u001b[0m \u001b[1;33m\u001b[0m\u001b[0m\n\u001b[0;32m     13\u001b[0m \u001b[1;32mfor\u001b[0m \u001b[0mvar\u001b[0m \u001b[1;32min\u001b[0m \u001b[0ms\u001b[0m\u001b[1;33m:\u001b[0m\u001b[1;33m\u001b[0m\u001b[0m\n\u001b[1;32m---> 14\u001b[1;33m     \u001b[0mos\u001b[0m\u001b[1;33m.\u001b[0m\u001b[0mmkdir\u001b[0m\u001b[1;33m(\u001b[0m\u001b[0mvar\u001b[0m\u001b[1;33m)\u001b[0m\u001b[1;33m;\u001b[0m\u001b[1;33m\u001b[0m\u001b[0m\n\u001b[0m\u001b[0;32m     15\u001b[0m \u001b[1;33m\u001b[0m\u001b[0m\n\u001b[0;32m     16\u001b[0m \u001b[0mdf2\u001b[0m\u001b[1;33m=\u001b[0m\u001b[0mdf1\u001b[0m\u001b[1;33m[\u001b[0m\u001b[1;34m'Poster'\u001b[0m\u001b[1;33m]\u001b[0m\u001b[1;33m\u001b[0m\u001b[0m\n",
      "\u001b[1;31mFileExistsError\u001b[0m: [WinError 183] Cannot create a file when that file already exists: 'Animation'"
     ]
    }
   ],
   "source": [
    "import pandas as pd\n",
    "df1 = pd.read_csv(\"C:/Users/lenovo/MovieGenre.csv\",encoding='latin-1')\n",
    "df2=df1['Genre']\n",
    "s = set();\n",
    "for var in range(2,300):\n",
    "    l1=df2[var].split(\"|\");\n",
    "    for var1 in l1:\n",
    "        s.add(var1);\n",
    "\n",
    "import os;\n",
    "os.chdir(\"C:/Users/lenovo/Desktop/DA/f2\")\n",
    "\n",
    "for var in s:\n",
    "    os.mkdir(var);\n",
    "\n",
    "df2=df1['Poster']\n",
    "df3=df1['Genre']\n",
    "\n",
    "import urllib.request\n",
    "v=\"C:/Users/lenovo/Desktop/DA/f2/\";\n",
    "for var in range(2,300):\n",
    "    l1=df3[var].split(\"|\");\n",
    "    for var1 in l1:\n",
    "        v1=v+str(var1)+\"/\"+str(var)+\".jpg\";\n",
    "        print(v1)\n",
    "        try:\n",
    "            print(df2[var]);\n",
    "            urllib.request.urlretrieve(df2[var],v1)\n",
    "        except:\n",
    "            pass;"
   ]
  },
  {
   "cell_type": "code",
   "execution_count": null,
   "metadata": {},
   "outputs": [],
   "source": []
  }
 ],
 "metadata": {
  "kernelspec": {
   "display_name": "Python 3",
   "language": "python",
   "name": "python3"
  },
  "language_info": {
   "codemirror_mode": {
    "name": "ipython",
    "version": 3
   },
   "file_extension": ".py",
   "mimetype": "text/x-python",
   "name": "python",
   "nbconvert_exporter": "python",
   "pygments_lexer": "ipython3",
   "version": "3.6.3"
  }
 },
 "nbformat": 4,
 "nbformat_minor": 2
}
