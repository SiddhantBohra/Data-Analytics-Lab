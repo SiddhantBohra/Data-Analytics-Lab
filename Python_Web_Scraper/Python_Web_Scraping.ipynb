{
 "cells": [
  {
   "cell_type": "code",
   "execution_count": 5,
   "metadata": {},
   "outputs": [],
   "source": [
    "import requests\n",
    "import urllib\n",
    "import numpy\n",
    "import csv\n",
    "from bs4 import BeautifulSoup"
   ]
  },
  {
   "cell_type": "code",
   "execution_count": 16,
   "metadata": {},
   "outputs": [],
   "source": [
    "def doctors():   \n",
    "    req=requests.get('http://psgim.ac.in/2017/01/full-time-faculty/')\n",
    "    if req.status_code==200:\n",
    "        soup=BeautifulSoup(req.text,'html.parser')    \n",
    "        res=soup.find(\"div\",{\"class\":\"wpb_wrapper\"})\n",
    "        count=0\n",
    "        for i in res.findAll(\"a\"):\n",
    "            string = i.text\n",
    "            if \"Dr\"  in string: \n",
    "                print(string)\n",
    "                count=count+1\n",
    "        print(\"The number of phd holders in psg im : \",count)        \n",
    "    else:\n",
    "        print(\"Error\")"
   ]
  },
  {
   "cell_type": "code",
   "execution_count": 17,
   "metadata": {},
   "outputs": [
    {
     "name": "stdout",
     "output_type": "stream",
     "text": [
      "Dr Archana Krishnan\n",
      "Dr KRISHNAVENI R\n",
      "Dr MANJU P GEORGE\n",
      "Dr RAMKUMAR N\n",
      " Dr Srigayathri Devi K\n",
      "Dr SRIVIDYA V\n",
      "Dr VIJAYA T G\n",
      "The number of phd holders in psg im :  7\n"
     ]
    }
   ],
   "source": [
    "doctors()"
   ]
  },
  {
   "cell_type": "code",
   "execution_count": null,
   "metadata": {},
   "outputs": [],
   "source": []
  },
  {
   "cell_type": "code",
   "execution_count": null,
   "metadata": {},
   "outputs": [],
   "source": []
  }
 ],
 "metadata": {
  "kernelspec": {
   "display_name": "Python 3",
   "language": "python",
   "name": "python3"
  },
  "language_info": {
   "codemirror_mode": {
    "name": "ipython",
    "version": 3
   },
   "file_extension": ".py",
   "mimetype": "text/x-python",
   "name": "python",
   "nbconvert_exporter": "python",
   "pygments_lexer": "ipython3",
   "version": "3.6.3"
  }
 },
 "nbformat": 4,
 "nbformat_minor": 2
}
